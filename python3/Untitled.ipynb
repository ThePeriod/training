{
 "cells": [
  {
   "cell_type": "code",
   "execution_count": 17,
   "metadata": {},
   "outputs": [
    {
     "data": {
      "text/plain": [
       "list"
      ]
     },
     "execution_count": 17,
     "metadata": {},
     "output_type": "execute_result"
    }
   ],
   "source": [
    "b = \"My, what a lovely day\"\n",
    "x = b.split(',')\n",
    "type(x)"
   ]
  },
  {
   "cell_type": "code",
   "execution_count": 11,
   "metadata": {},
   "outputs": [
    {
     "name": "stdout",
     "output_type": "stream",
     "text": [
      "3\n"
     ]
    }
   ],
   "source": [
    "words = [\"water\", \"chair\", \"pen\", \"basket\", \"hi\", \"car\"]\n",
    "num_words=0\n",
    "for i in words:\n",
    "    if len(i)>3:\n",
    "        num_words=num_words+1\n",
    "    #print(i,len(i),num_words)\n",
    "#print(num_words) #3\n"
   ]
  },
  {
   "cell_type": "code",
   "execution_count": 23,
   "metadata": {},
   "outputs": [
    {
     "name": "stdout",
     "output_type": "stream",
     "text": [
      "['adopted']\n",
      "['adopted', 'baked']\n",
      "['adopted', 'baked', 'beamed']\n",
      "['adopted', 'baked', 'beamed', 'confided']\n",
      "['adopted', 'baked', 'beamed', 'confided', 'grilled']\n",
      "['adopted', 'baked', 'beamed', 'confided', 'grilled', 'planted']\n",
      "['adopted', 'baked', 'beamed', 'confided', 'grilled', 'planted', 'timed']\n",
      "['adopted', 'baked', 'beamed', 'confided', 'grilled', 'planted', 'timed', 'waved']\n",
      "['adopted', 'baked', 'beamed', 'confided', 'grilled', 'planted', 'timed', 'waved', 'wished']\n"
     ]
    }
   ],
   "source": [
    "words = [\"adopt\", \"bake\", \"beam\", \"confide\", \"grill\", \"plant\", \"time\", \"wave\", \"wish\"]\n",
    "past_tense=[]\n",
    "for i in words:\n",
    "    #print(i,i[-1],type(i[-1]))\n",
    "    if i[-1]==\"e\":\n",
    "        i=i+\"d\"\n",
    "    else:\n",
    "        i=i+\"ed\"\n",
    "    past_tense=past_tense+[i]\n",
    "    #print(past_tense)"
   ]
  },
  {
   "cell_type": "code",
   "execution_count": 19,
   "metadata": {},
   "outputs": [
    {
     "name": "stdout",
     "output_type": "stream",
     "text": [
      "['curling', 'ping pong', 'hockey']\n"
     ]
    }
   ],
   "source": [
    "sports = ['cricket', 'football', 'volleyball', 'baseball', 'softball', 'track and field', 'curling', 'ping pong', 'hockey']\n",
    "last=sports[len(sports)-3:]\n",
    "print(last)\n"
   ]
  },
  {
   "cell_type": "code",
   "execution_count": 23,
   "metadata": {},
   "outputs": [
    {
     "name": "stdout",
     "output_type": "stream",
     "text": [
      "[0, 1, 2, 3, 4]\n",
      "[0, 1, 2, 3, 4]\n",
      "range(0, 5)\n"
     ]
    }
   ],
   "source": [
    "# Notice the casting of `range` to the `list`\n",
    "print(list(range(5)))\n",
    "print(list(range(0,5)))\n",
    "print(range(5))"
   ]
  },
  {
   "cell_type": "code",
   "execution_count": 30,
   "metadata": {},
   "outputs": [
    {
     "name": "stdout",
     "output_type": "stream",
     "text": [
      "range(0, 10)\n"
     ]
    }
   ],
   "source": [
    "x=range(10)\n",
    "print(x)"
   ]
  },
  {
   "cell_type": "code",
   "execution_count": 33,
   "metadata": {},
   "outputs": [
    {
     "name": "stdout",
     "output_type": "stream",
     "text": [
      "90\n",
      "90\n"
     ]
    }
   ],
   "source": [
    "str1 = \"I like nonsense, it wakes up the brain cells. Fantasy is a necessary ingredient in living.\"\n",
    "numb=0\n",
    "for w in str1:\n",
    "    numb=numb+1\n",
    "print(numb)\n",
    "print(len(str1))\n"
   ]
  },
  {
   "cell_type": "code",
   "execution_count": 35,
   "metadata": {},
   "outputs": [
    {
     "name": "stdout",
     "output_type": "stream",
     "text": [
      "[0, 1, 2, 3, 4, 5, 6, 7, 8, 9, 10, 11, 12, 13, 14, 15, 16, 17, 18, 19, 20, 21, 22, 23, 24, 25, 26, 27, 28, 29, 30, 31, 32, 33, 34, 35, 36, 37, 38, 39, 40]\n",
      "820\n"
     ]
    }
   ],
   "source": [
    "numbers=list(range(41))\n",
    "sum1=0\n",
    "for w in numbers:\n",
    "    sum1=sum1+w\n",
    "print(numbers)\n",
    "print(sum1)"
   ]
  },
  {
   "cell_type": "code",
   "execution_count": 39,
   "metadata": {},
   "outputs": [
    {
     "name": "stdout",
     "output_type": "stream",
     "text": [
      "[1.65]\n",
      "[1.65, 1.46]\n",
      "[1.65, 1.46, 2.05]\n",
      "[1.65, 1.46, 2.05, 3.03]\n",
      "[1.65, 1.46, 2.05, 3.03, 3.35]\n",
      "[1.65, 1.46, 2.05, 3.03, 3.35, 3.46]\n",
      "[1.65, 1.46, 2.05, 3.03, 3.35, 3.46, 2.83]\n",
      "[1.65, 1.46, 2.05, 3.03, 3.35, 3.46, 2.83, 3.23]\n",
      "[1.65, 1.46, 2.05, 3.03, 3.35, 3.46, 2.83, 3.23, 3.5]\n",
      "[1.65, 1.46, 2.05, 3.03, 3.35, 3.46, 2.83, 3.23, 3.5, 2.52]\n",
      "[1.65, 1.46, 2.05, 3.03, 3.35, 3.46, 2.83, 3.23, 3.5, 2.52, 2.8]\n",
      "[1.65, 1.46, 2.05, 3.03, 3.35, 3.46, 2.83, 3.23, 3.5, 2.52, 2.8, 1.85]\n",
      "5\n"
     ]
    }
   ],
   "source": [
    "rainfall_mi = \"1.65, 1.46, 2.05, 3.03, 3.35, 3.46, 2.83, 3.23, 3.5, 2.52, 2.8, 1.85\"\n",
    "nums_mi=rainfall_mi.split(\", \")\n",
    "float_mi=[]\n",
    "num_rainy_months=0\n",
    "for i in nums_mi:\n",
    "    #print(i,type(i),float(i),type(float(i)))\n",
    "    float_mi=float_mi+[float(i)]\n",
    "    print(float_mi)\n",
    "for j in float_mi:\n",
    "    if j>3.0:\n",
    "        num_rainy_months=num_rainy_months+1\n",
    "#print(num_rainy_months)     \n",
    "    "
   ]
  },
  {
   "cell_type": "code",
   "execution_count": 45,
   "metadata": {},
   "outputs": [
    {
     "name": "stdout",
     "output_type": "stream",
     "text": [
      "2\n"
     ]
    }
   ],
   "source": [
    "# The variable sentence stores a string. Write code to determine how many words in sentence start and end with the same letter\n",
    "# , including one-letter words. Store the result in the variable same_letter_count.\n",
    "# Hard-coded answers will receive no credit.\n",
    "\n",
    "sentence = \"students flock to the arb for a variety of outdoor activities such as jogging and picnicking\"\n",
    "\n",
    "same_letter_count=0\n",
    "sentence_list=sentence.split()\n",
    "for i in sentence_list:\n",
    "    #print(i,i[0],i[-1])\n",
    "    if i[0]==i[-1]:\n",
    "        same_letter_count=same_letter_count+1\n",
    "print(same_letter_count)"
   ]
  },
  {
   "cell_type": "code",
   "execution_count": 47,
   "metadata": {},
   "outputs": [
    {
     "name": "stdout",
     "output_type": "stream",
     "text": [
      "whirring True\n",
      "wow! True\n",
      "calendar False\n",
      "wry True\n",
      "glass False\n",
      " False\n",
      "llama False\n",
      "tumultuous False\n",
      "owing True\n",
      "4\n"
     ]
    }
   ],
   "source": [
    "# Write code to count the number of strings in list items that have the character w in it.\n",
    "# Assign that number to the variable acc_num.\n",
    "# HINT 1: Use the accumulation pattern!\n",
    "# HINT 2: the in operator checks whether a substring is present in a string.\n",
    "items = [\"whirring\", \"wow!\", \"calendar\", \"wry\", \"glass\", \"\", \"llama\",\"tumultuous\",\"owing\"]\n",
    "acc_num=0\n",
    "for i in items:\n",
    "    if (\"w\" in i)==True:\n",
    "        acc_num=acc_num+1\n",
    "print(acc_num)"
   ]
  },
  {
   "cell_type": "code",
   "execution_count": 49,
   "metadata": {},
   "outputs": [
    {
     "name": "stdout",
     "output_type": "stream",
     "text": [
      "python False\n",
      "is False\n",
      "a True\n",
      "high False\n",
      "level True\n",
      "general True\n",
      "purpose True\n",
      "programming True\n",
      "language True\n",
      "that True\n",
      "can True\n",
      "be True\n",
      "applied True\n",
      "to False\n",
      "many True\n",
      "different True\n",
      "classes True\n",
      "of False\n",
      "problems. True\n",
      "14\n"
     ]
    }
   ],
   "source": [
    "# Write code that counts the number of words in sentence that contain either an “a” or an “e”.\n",
    "# Store the result in the variable num_a_or_e.\n",
    "# Note 1: be sure to not double-count words that contain both an a and an e.\n",
    "# HINT 1: Use the in operator.\n",
    "# HINT 2: You can either use or or elif.\n",
    "\n",
    "sentence = \"python is a high level general purpose programming language that can be applied to many different classes of problems.\"\n",
    "num_a_or_e=0\n",
    "sentence_list=sentence.split()\n",
    "for i in sentence_list:\n",
    "    print(i,(\"a\" in i) or (\"e\" in i))\n",
    "    if ((\"a\" in i) or (\"e\" in i))==True:\n",
    "        num_a_or_e=num_a_or_e+1\n",
    "print(num_a_or_e)"
   ]
  },
  {
   "cell_type": "code",
   "execution_count": 53,
   "metadata": {},
   "outputs": [
    {
     "name": "stdout",
     "output_type": "stream",
     "text": [
      "32\n"
     ]
    }
   ],
   "source": [
    "s = \"singing in the rain and playing in the rain are two entirely different situations but both can be fun\"\n",
    "vowels = ['a','e','i','o','u']\n",
    "\n",
    "# Write your code here.\n",
    "num_vowels=0\n",
    "for i in s:\n",
    "    if (i in vowels)==True:\n",
    "        num_vowels=num_vowels+1\n",
    "print(num_vowels)\n",
    "\n"
   ]
  },
  {
   "cell_type": "code",
   "execution_count": 14,
   "metadata": {},
   "outputs": [
    {
     "name": "stdout",
     "output_type": "stream",
     "text": [
      "['Beirut', 'Milan', 'Pittsburgh', 'Buenos Aires', 'Nairobi', 'Kathmandu', 'Osaka', 'Melbourne']\n",
      "['Beirut', 'Milan', 'Pittsburgh', 'Buenos Aires', 'Nairobi', 'Kathmandu', 'Osaka', 'Melbourne', 'Guadalajara']\n",
      "['Youyou Tu', 'Rainer Weiss', 'Malala Yousafzai', 'Kazuo Ishiguro', 'Alvin E. Roth', 'Alice Munro']\n"
     ]
    }
   ],
   "source": [
    "sports = ['cricket', 'football', 'volleyball', 'baseball', 'softball', 'track and field', 'curling', 'ping pong', 'hockey']\n",
    "sports.insert(2,'horseback riding')\n",
    "#print(sports)\n",
    "\n",
    "trav_dest = ['Beirut', 'Milan', 'Pittsburgh', 'Buenos Aires', 'Nairobi', 'Kathmandu', 'Osaka', 'London', 'Melbourne']\n",
    "trav_dest.pop(7)\n",
    "print(trav_dest)\n",
    "\n",
    "trav_dest = ['Beirut', 'Milan', 'Pittsburgh', 'Buenos Aires', 'Nairobi', 'Kathmandu', 'Osaka', 'Melbourne']\n",
    "trav_dest.append('Guadalajara')\n",
    "print(trav_dest)\n",
    "\n",
    "winners = ['Kazuo Ishiguro', 'Rainer Weiss', 'Youyou Tu', 'Malala Yousafzai', 'Alice Munro', 'Alvin E. Roth']\n",
    "winners.sort()\n",
    "winners.reverse()\n",
    "z_winners=winners\n",
    "print(z_winners)\n"
   ]
  },
  {
   "cell_type": "code",
   "execution_count": 41,
   "metadata": {},
   "outputs": [
    {
     "name": "stdout",
     "output_type": "stream",
     "text": [
      "[8, 58, 10.6, 20, 4, 3634, 3934, 18, 62.64]\n"
     ]
    }
   ],
   "source": [
    "# verbs = [\"kayak\", \"cry\", \"walk\", \"eat\", \"drink\", \"fly\"]\n",
    "# ing=[]\n",
    "# for word in verbs:\n",
    "#     ing.append(word+\"ing\")\n",
    "#     #print(ing)\n",
    "    \n",
    "#numbs = [5, 10, 15, 20, 25]\n",
    "#numbs=[x+5 for x in numbs]\n",
    "# for n in numbs:\n",
    "#     #print(numbs.index(n),n,numbs[numbs.index(n)],n+5)\n",
    "#     numbs.replace(n,n+5)\n",
    "#     print(numbs)\n",
    "# print(numbs)\n",
    "#print(numbs)\n",
    "\n",
    "lst_nums = [4, 29, 5.3, 10, 2, 1817, 1967, 9, 31.32]\n",
    "larger_nums=[x*2 for x in lst_nums]\n",
    "print(larger_nums)"
   ]
  },
  {
   "cell_type": "code",
   "execution_count": 54,
   "metadata": {},
   "outputs": [
    {
     "name": "stdout",
     "output_type": "stream",
     "text": [
      "['I']\n",
      "['I', ' ']\n",
      "['I', ' ', 'l']\n",
      "['I', ' ', 'l', 'o']\n",
      "['I', ' ', 'l', 'o', 'v']\n",
      "['I', ' ', 'l', 'o', 'v', 'e']\n",
      "['I', ' ', 'l', 'o', 'v', 'e', ' ']\n",
      "['I', ' ', 'l', 'o', 'v', 'e', ' ', 'p']\n",
      "['I', ' ', 'l', 'o', 'v', 'e', ' ', 'p', 'y']\n",
      "['I', ' ', 'l', 'o', 'v', 'e', ' ', 'p', 'y', 't']\n",
      "['I', ' ', 'l', 'o', 'v', 'e', ' ', 'p', 'y', 't', 'h']\n",
      "['I', ' ', 'l', 'o', 'v', 'e', ' ', 'p', 'y', 't', 'h', 'o']\n",
      "['I', ' ', 'l', 'o', 'v', 'e', ' ', 'p', 'y', 't', 'h', 'o', 'n']\n",
      "['I', ' ', 'l', 'o', 'v', 'e', ' ', 'p', 'y', 't', 'h', 'o', 'n']\n"
     ]
    }
   ],
   "source": [
    "# s = \"ball\"\n",
    "# r = \"\"\n",
    "# for item in s:\n",
    "#     r = item.upper() + r\n",
    "#     print(r)\n",
    "# print(r)\n",
    "\n",
    "    # str1 = \"I love python\"\n",
    "    # # HINT: what's the accumulator? That should go here.\n",
    "    # chars=[]\n",
    "    # for i in str1:\n",
    "    #     chars.append(i)\n",
    "    # print(chars)\n",
    "\n",
    "# output=\"\"\n",
    "# for i in range(36):\n",
    "#     output=output+\"a\"\n",
    "#     print(output,output.count(\"a\"))\n",
    "    \n",
    "str1 = \"I love python\"\n",
    "# HINT: what's the accumulator? That should go here.\n",
    "chars=[]\n",
    "for i in str1:\n",
    "    chars.append(i)\n",
    "    print(chars)\n",
    "print(chars)"
   ]
  },
  {
   "cell_type": "code",
   "execution_count": 66,
   "metadata": {},
   "outputs": [
    {
     "name": "stdout",
     "output_type": "stream",
     "text": [
      "3\n"
     ]
    }
   ],
   "source": [
    "lst = ['plan', 'answer', 5, 9.29, 'order, items', [4]]\n",
    "s = 0\n",
    "for item in lst:\n",
    "    if type(item) == type(\"string\"):\n",
    "        s = s + 1\n",
    "        \n",
    "print(s)"
   ]
  },
  {
   "cell_type": "code",
   "execution_count": 67,
   "metadata": {},
   "outputs": [
    {
     "name": "stdout",
     "output_type": "stream",
     "text": [
      "['p', 'y', 't', 'h', 'o', 'n', '!']\n"
     ]
    }
   ],
   "source": [
    "ael = \"python!\"\n",
    "app=[]\n",
    "for i in ael:\n",
    "    app.append(i)\n",
    "print(app)   \n"
   ]
  },
  {
   "cell_type": "code",
   "execution_count": 68,
   "metadata": {},
   "outputs": [
    {
     "name": "stdout",
     "output_type": "stream",
     "text": [
      "['ended', 'worked', 'played', 'started', 'walked', 'looked', 'opened', 'rained', 'learned', 'cleaned']\n"
     ]
    }
   ],
   "source": [
    "wrds = [\"end\", 'work', \"play\", \"start\", \"walk\", \"look\", \"open\", \"rain\", \"learn\", \"clean\"]\n",
    "past_wrds=[]\n",
    "for i in wrds:\n",
    "    past_wrds.append(i+\"ed\")\n",
    "print(past_wrds)"
   ]
  },
  {
   "cell_type": "code",
   "execution_count": 69,
   "metadata": {},
   "outputs": [
    {
     "name": "stdout",
     "output_type": "stream",
     "text": [
      "['holiday', 'celebrate!', 'company']\n"
     ]
    }
   ],
   "source": [
    "a = [\"holiday\", \"celebrate!\"]\n",
    "quiet = a\n",
    "quiet.append(\"company\")\n",
    "print(a)"
   ]
  }
 ],
 "metadata": {
  "kernelspec": {
   "display_name": "Python 3",
   "language": "python",
   "name": "python3"
  },
  "language_info": {
   "codemirror_mode": {
    "name": "ipython",
    "version": 3
   },
   "file_extension": ".py",
   "mimetype": "text/x-python",
   "name": "python",
   "nbconvert_exporter": "python",
   "pygments_lexer": "ipython3",
   "version": "3.6.8"
  }
 },
 "nbformat": 4,
 "nbformat_minor": 2
}
