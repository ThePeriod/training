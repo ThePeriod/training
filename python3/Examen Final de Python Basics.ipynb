{
 "cells": [
  {
   "cell_type": "markdown",
   "metadata": {},
   "source": [
    "1.- Below are a set of scores that students have received in the past semester. Write code to determine how many are 90 or above and assign that result to the value a_scores.\n"
   ]
  },
  {
   "cell_type": "code",
   "execution_count": 11,
   "metadata": {},
   "outputs": [
    {
     "name": "stdout",
     "output_type": "stream",
     "text": [
      "10\n"
     ]
    }
   ],
   "source": [
    "\n",
    "scores = \"67 80 90 78 93 20 79 89 96 97 92 88 79 68 58 90 98 100 79 74 83 88 80 86 85 70 90 100\"\n",
    "#lst_scores=scores.split()\n",
    "lst_scores=[int(x) for x in scores.split()]\n",
    "a_scores=0\n",
    "for i in lst_scores:\n",
    "    if i>=90:\n",
    "        a_scores=a_scores+1\n",
    "print(a_scores)"
   ]
  },
  {
   "cell_type": "markdown",
   "metadata": {},
   "source": [
    "2.- Write code that uses the string stored in org and creates an acronym which is assigned to the variable acro.\n",
    "Only the first letter of each word should be used, each letter in the acronym should be a capital letter, and there should be nothing to separate the letters of the acronym.\n",
    "Words that should not be included in the acronym are stored in the list stopwords. For example, if org was assigned the string “hello to world” then the resulting acronym should be “HW”."
   ]
  },
  {
   "cell_type": "code",
   "execution_count": 25,
   "metadata": {},
   "outputs": [
    {
     "name": "stdout",
     "output_type": "stream",
     "text": [
      "['The', 'organization', 'for', 'health', 'safety', 'and', 'education']\n",
      "o\n",
      "oh\n",
      "ohs\n",
      "ohse\n",
      "OHSE\n"
     ]
    }
   ],
   "source": [
    "stopwords = ['to', 'a', 'for', 'by', 'an', 'am', 'the', 'so', 'it', 'and', \"The\"]\n",
    "org = \"The organization for health, safety, and education\"\n",
    "acro=\"\"\n",
    "org=org.replace(\",\",\"\")\n",
    "split_org=org.split()\n",
    "print(split_org)\n",
    "for i in split_org:\n",
    "    if i not in stopwords:\n",
    "        acro=acro+i[0]\n",
    "        print(acro)\n",
    "acro=acro.upper()\n",
    "print(acro)\n"
   ]
  },
  {
   "cell_type": "markdown",
   "metadata": {},
   "source": [
    "3.- Write code that uses the string stored in sent and creates an acronym which is assigned to the variable acro.\n",
    "The first two letters of each word should be used, each letter in the acronym should be a capital letter, and each element of the acronym should be separated by a “. ” (dot and space).\n",
    "Words that should not be included in the acronym are stored in the list stopwords. For example, if sent was assigned the string “height and ewok wonder” then the resulting acronym should be “HE. EW. WO”."
   ]
  },
  {
   "cell_type": "code",
   "execution_count": 33,
   "metadata": {},
   "outputs": [
    {
     "name": "stdout",
     "output_type": "stream",
     "text": [
      "the water earth and air are vital\n",
      "['the', 'water', 'earth', 'and', 'air', 'are', 'vital']\n",
      "wa. \n",
      "wa. ea. \n",
      "wa. ea. ai. \n",
      "wa. ea. ai. ar. \n",
      "wa. ea. ai. ar. vi. \n",
      "WA. EA. AI. AR. VI\n"
     ]
    }
   ],
   "source": [
    "stopwords = ['to', 'a', 'for', 'by', 'an', 'am', 'the', 'so', 'it', 'and', 'The']\n",
    "sent = \"The water earth and air are vital\"\n",
    "sent=sent.lower()\n",
    "#print(sent)\n",
    "acro=\"\"\n",
    "#org=org.replace(\",\",\"\")\n",
    "split_sent=sent.split()\n",
    "#print(split_sent)\n",
    "for i in split_sent:\n",
    "    if i not in stopwords:\n",
    "        acro=acro+i[:2]+\". \"\n",
    "        #print(acro)\n",
    "acro=acro[:len(acro)-2].upper()\n",
    "#print(acro)"
   ]
  },
  {
   "cell_type": "markdown",
   "metadata": {},
   "source": [
    "4.- A palindrome is a phrase that, if reversed, would read the exact same.\n",
    "Write code that checks if p_phrase is a palindrome by reversing it and then checking if the reversed version is equal to the original. Assign the reversed version of p_phrase to the variable r_phrase so that we can check your work."
   ]
  },
  {
   "cell_type": "code",
   "execution_count": 40,
   "metadata": {},
   "outputs": [
    {
     "name": "stdout",
     "output_type": "stream",
     "text": [
      "Its not\n",
      "saw I cat a or car a it was \n"
     ]
    }
   ],
   "source": [
    "# Version errada, entendi revresa de palabra por palabra en vez de letra por letra. Se guarda para historia\n",
    "\n",
    "p_phrase = \"was it a car or a cat I saw\"\n",
    "r_phrase_list=p_phrase.split()\n",
    "r_phrase_list.reverse()\n",
    "r_phrase=\"\"\n",
    "for i in r_phrase_list:\n",
    "    r_phrase=r_phrase+i+\" \"\n",
    "if p_phrase==r_phrase:\n",
    "    print(\"Its a palindrome\")\n",
    "else:\n",
    "    print(\"Its not\")\n",
    "    \n",
    "#r_phrase=r_phrase.reversed()\n",
    "#print(r_phrase)\n"
   ]
  },
  {
   "cell_type": "code",
   "execution_count": 60,
   "metadata": {},
   "outputs": [
    {
     "name": "stdout",
     "output_type": "stream",
     "text": [
      "was I tac a ro rac a ti saw\n"
     ]
    }
   ],
   "source": [
    "p_phrase = \"was it a car or a cat I saw\"\n",
    "r_phrase=\"\"\n",
    "for i in range(len(p_phrase)+1):\n",
    "    #print(i,len(p_phrase)-i)\n",
    "    #print(p_phrase[i],p_phrase[len(p_phrase)-i-1])\n",
    "    r_phrase=r_phrase+p_phrase[len(p_phrase)-i-1]\n",
    "r_phrase=r_phrase[:len(p_phrase)]\n",
    "if p_phrase==r_phrase:\n",
    "    print(\"Its a palindrome\")\n",
    "else:\n",
    "    print(\"Its not\")"
   ]
  },
  {
   "cell_type": "code",
   "execution_count": 70,
   "metadata": {},
   "outputs": [
    {
     "name": "stdout",
     "output_type": "stream",
     "text": [
      "shoes, 12, 29.99\n",
      "shirts, 20, 9.99\n",
      "sweatpants, 25, 15.00\n",
      "scarves, 13, 7.75\n",
      "The store has 12 shoes, each for 29.99 USD\n",
      "The store has 20 shirts, each for 9.99 USD\n",
      "The store has 25 sweatpants, each for 15.00 USD\n",
      "The store has 13 scarves, each for 7.75 USD\n"
     ]
    }
   ],
   "source": [
    "inventory = [\"shoes, 12, 29.99\", \"shirts, 20, 9.99\", \"sweatpants, 25, 15.00\", \"scarves, 13, 7.75\"]\n",
    "for k in range(len(inventory)):\n",
    "    #print(inventory[k])\n",
    "    inventory[k]=inventory[k].split(\", \")\n",
    "#print(inventory)\n",
    "\n",
    "for i in inventory:\n",
    "    item=i[0]\n",
    "    amount=i[1]\n",
    "    price=i[2]\n",
    "    print(\"The store has {} {}, each for {} USD.\".format(amount,item,price))"
   ]
  }
 ],
 "metadata": {
  "kernelspec": {
   "display_name": "Python 3",
   "language": "python",
   "name": "python3"
  },
  "language_info": {
   "codemirror_mode": {
    "name": "ipython",
    "version": 3
   },
   "file_extension": ".py",
   "mimetype": "text/x-python",
   "name": "python",
   "nbconvert_exporter": "python",
   "pygments_lexer": "ipython3",
   "version": "3.6.8"
  }
 },
 "nbformat": 4,
 "nbformat_minor": 2
}
